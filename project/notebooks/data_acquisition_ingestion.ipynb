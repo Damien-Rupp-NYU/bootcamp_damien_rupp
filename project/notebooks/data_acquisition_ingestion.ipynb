{
 "cells": [
  {
   "cell_type": "markdown",
   "id": "c5c6477d",
   "metadata": {},
   "source": [
    "# Stage 04: Data Acquisition and Ingestion"
   ]
  },
  {
   "cell_type": "code",
   "execution_count": 1,
   "id": "8d7bbca0",
   "metadata": {},
   "outputs": [],
   "source": [
    "import os, pathlib, datetime as dt\n",
    "import requests\n",
    "import pandas as pd\n",
    "import numpy as np\n",
    "from bs4 import BeautifulSoup\n",
    "from dotenv import load_dotenv"
   ]
  },
  {
   "cell_type": "markdown",
   "id": "7972afcf",
   "metadata": {},
   "source": [
    "## API Pull"
   ]
  },
  {
   "cell_type": "code",
   "execution_count": 3,
   "id": "1d4e4677",
   "metadata": {
    "scrolled": true
   },
   "outputs": [
    {
     "name": "stdout",
     "output_type": "stream",
     "text": [
      "num stations: 2194\n"
     ]
    }
   ],
   "source": [
    "url = \"https://api.citybik.es/v2/networks/citi-bike-nyc\"\n",
    "response = requests.get(url)\n",
    "data = response.json()\n",
    "\n",
    "stations = data.get(\"network\", {}).get(\"stations\", [])\n",
    "print(\"num stations:\", len(stations))\n",
    "\n",
    "for s in stations:\n",
    "    name = s.get(\"name\")\n",
    "    free = s.get(\"free_bikes\")             # CityBikes key\n",
    "    empty = s.get(\"empty_slots\")           # CityBikes key\n",
    "    # fallbacks in case of partial/malformed items\n",
    "    if name is None:\n",
    "        name = s.get(\"extra\", {}).get(\"uid\", \"<no name>\")\n",
    "    #print(f\"{name}: free={free}, empty={empty}\")\n",
    "\n",
    "\n"
   ]
  },
  {
   "cell_type": "markdown",
   "id": "fa31f7c8-df24-4b4d-ad52-ebb63482805c",
   "metadata": {},
   "source": [
    "## I downloaded historic data from this website \n",
    "https://data.citybik.es/"
   ]
  },
  {
   "cell_type": "code",
   "execution_count": 4,
   "id": "3d3648e6",
   "metadata": {},
   "outputs": [
    {
     "name": "stdout",
     "output_type": "stream",
     "text": [
      "(46124185, 10)\n",
      "             tag                                id  \\\n",
      "0  citi-bike-nyc  0007398f39bd26118c9fdfd5197ccada   \n",
      "1  citi-bike-nyc  0007398f39bd26118c9fdfd5197ccada   \n",
      "2  citi-bike-nyc  0007398f39bd26118c9fdfd5197ccada   \n",
      "3  citi-bike-nyc  0007398f39bd26118c9fdfd5197ccada   \n",
      "4  citi-bike-nyc  0007398f39bd26118c9fdfd5197ccada   \n",
      "\n",
      "                                   nuid                  name   latitude  \\\n",
      "0  7aa86431-bbc5-4d9c-8198-9630c9d32a22  Chester Ave & 12 Ave  40.644367   \n",
      "1  7aa86431-bbc5-4d9c-8198-9630c9d32a22  Chester Ave & 12 Ave  40.644367   \n",
      "2  7aa86431-bbc5-4d9c-8198-9630c9d32a22  Chester Ave & 12 Ave  40.644367   \n",
      "3  7aa86431-bbc5-4d9c-8198-9630c9d32a22  Chester Ave & 12 Ave  40.644367   \n",
      "4  7aa86431-bbc5-4d9c-8198-9630c9d32a22  Chester Ave & 12 Ave  40.644367   \n",
      "\n",
      "   longitude  bikes  free                                              extra  \\\n",
      "0 -73.984276     19     0  {\"uid\":\"7aa86431-bbc5-4d9c-8198-9630c9d32a22\",...   \n",
      "1 -73.984276     18     1  {\"uid\":\"7aa86431-bbc5-4d9c-8198-9630c9d32a22\",...   \n",
      "2 -73.984276     19     0  {\"uid\":\"7aa86431-bbc5-4d9c-8198-9630c9d32a22\",...   \n",
      "3 -73.984276     18     1  {\"uid\":\"7aa86431-bbc5-4d9c-8198-9630c9d32a22\",...   \n",
      "4 -73.984276     17     2  {\"uid\":\"7aa86431-bbc5-4d9c-8198-9630c9d32a22\",...   \n",
      "\n",
      "            timestamp  \n",
      "0 2024-11-01 15:13:29  \n",
      "1 2024-11-01 16:16:29  \n",
      "2 2024-11-01 21:16:28  \n",
      "3 2024-11-01 22:22:28  \n",
      "4 2024-11-01 23:52:29  \n"
     ]
    }
   ],
   "source": [
    "load_dotenv()\n",
    "RAW = pathlib.Path(os.getenv('DATA_DIR_RAW', '../data/raw'))\n",
    "RAW.mkdir(parents=True, exist_ok=True)\n",
    "\n",
    "\n",
    "# List all parquet files matching the pattern\n",
    "files = sorted(RAW.glob(\"*-citi-bike-nyc-stats.parquet\"))\n",
    "\n",
    "# Read and concatenate\n",
    "df = pd.concat([pd.read_parquet(f) for f in files], ignore_index=True)\n",
    "\n",
    "# Make sure timestamp is datetime\n",
    "df['timestamp'] = pd.to_datetime(df['timestamp'])\n",
    "\n",
    "\n",
    "print(df.shape)\n",
    "print(df.head())\n"
   ]
  },
  {
   "cell_type": "code",
   "execution_count": 5,
   "id": "a24e7669",
   "metadata": {},
   "outputs": [],
   "source": [
    "df.to_parquet(RAW / \"citibike_merged.parquet\", index=False)"
   ]
  },
  {
   "cell_type": "markdown",
   "id": "a2e9cadd",
   "metadata": {},
   "source": [
    "## Documentation\n",
    "### API Source: \n",
    "\n",
    "https://api.citybik.es/v2/networks/citi-bike-nyc\n",
    "\n",
    "The issue is that on the API there are only recent/live data and no historical values, therefore that would be a good way to optain data however to train the model, I would need historical data.\n",
    "\n",
    "### Historical Data Source:\n",
    "\n",
    "https://data.citybik.es/\n",
    "\n",
    "and in this notebook, I just merged them in a single parquet file : `citibike_merged.parquet` stored in `data/raw/`"
   ]
  }
 ],
 "metadata": {
  "kernelspec": {
   "display_name": "Python 3 (ipykernel)",
   "language": "python",
   "name": "python3"
  },
  "language_info": {
   "codemirror_mode": {
    "name": "ipython",
    "version": 3
   },
   "file_extension": ".py",
   "mimetype": "text/x-python",
   "name": "python",
   "nbconvert_exporter": "python",
   "pygments_lexer": "ipython3",
   "version": "3.10.18"
  }
 },
 "nbformat": 4,
 "nbformat_minor": 5
}
