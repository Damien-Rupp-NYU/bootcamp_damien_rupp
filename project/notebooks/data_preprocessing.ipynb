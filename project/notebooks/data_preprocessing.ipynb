{
 "cells": [
  {
   "cell_type": "code",
   "execution_count": 1,
   "metadata": {},
   "outputs": [],
   "source": [
    "import os, pathlib\n",
    "import pandas as pd\n",
    "import numpy as np\n",
    "from dotenv import load_dotenv\n",
    "from pathlib import Path\n",
    "import sys\n",
    "\n",
    "import pyarrow.parquet as pq\n",
    "import pyarrow.dataset as ds\n",
    "\n",
    "PROJECT_ROOT = Path.cwd().parent\n",
    "sys.path.append(str(PROJECT_ROOT))\n",
    "from src.cleaning import *\n",
    "\n",
    "\n",
    "load_dotenv()\n",
    "RAW = pathlib.Path(os.getenv('DATA_DIR_RAW', '../data/raw'))\n",
    "RAW.mkdir(parents=True, exist_ok=True)\n",
    "\n",
    "\n",
    "PROC = pathlib.Path(os.getenv('DATA_DIR_PROC', '../data/processed'))\n",
    "PROC.mkdir(parents=True, exist_ok=True)\n",
    "# Define folder paths relative to this notebook\n",
    "\n"
   ]
  },
  {
   "cell_type": "markdown",
   "metadata": {},
   "source": [
    "## Study Raw Dataset"
   ]
  },
  {
   "cell_type": "code",
   "execution_count": 2,
   "metadata": {},
   "outputs": [
    {
     "name": "stdout",
     "output_type": "stream",
     "text": [
      "202411-citi-bike-nyc-stats.parquet:\n",
      "['tag', 'id', 'nuid', 'name', 'latitude', 'longitude', 'bikes', 'free', 'extra', 'timestamp']\n",
      "------------------------------------------------------------\n",
      "202412-citi-bike-nyc-stats.parquet:\n",
      "['tag', 'id', 'nuid', 'name', 'latitude', 'longitude', 'bikes', 'free', 'extra', 'timestamp']\n",
      "------------------------------------------------------------\n",
      "202501-citi-bike-nyc-stats.parquet:\n",
      "['tag', 'id', 'nuid', 'name', 'latitude', 'longitude', 'bikes', 'free', 'extra', 'timestamp']\n",
      "------------------------------------------------------------\n",
      "202502-citi-bike-nyc-stats.parquet:\n",
      "['tag', 'id', 'nuid', 'name', 'latitude', 'longitude', 'bikes', 'free', 'extra', 'timestamp']\n",
      "------------------------------------------------------------\n",
      "202503-citi-bike-nyc-stats.parquet:\n",
      "['tag', 'id', 'nuid', 'name', 'latitude', 'longitude', 'bikes', 'free', 'extra', 'timestamp']\n",
      "------------------------------------------------------------\n",
      "202504-citi-bike-nyc-stats.parquet:\n",
      "['tag', 'id', 'nuid', 'name', 'latitude', 'longitude', 'bikes', 'free', 'extra', 'timestamp']\n",
      "------------------------------------------------------------\n",
      "202505-citi-bike-nyc-stats.parquet:\n",
      "['tag', 'id', 'nuid', 'name', 'latitude', 'longitude', 'bikes', 'free', 'extra', 'timestamp']\n",
      "------------------------------------------------------------\n",
      "202506-citi-bike-nyc-stats.parquet:\n",
      "['tag', 'id', 'nuid', 'name', 'latitude', 'longitude', 'bikes', 'free', 'extra', 'timestamp']\n",
      "------------------------------------------------------------\n",
      "202507-citi-bike-nyc-stats.parquet:\n",
      "['tag', 'id', 'nuid', 'name', 'latitude', 'longitude', 'bikes', 'free', 'extra', 'timestamp']\n",
      "------------------------------------------------------------\n"
     ]
    }
   ],
   "source": [
    "files = sorted(RAW.glob(\"*-citi-bike-nyc-stats.parquet\"))\n",
    "# Making sure they are all the same shape\n",
    "for f in files:\n",
    "    schema = pq.read_schema(f)\n",
    "    print(f\"{f.name}:\")\n",
    "    print(schema.names)\n",
    "    print(\"-\" * 60)\n",
    "\n",
    "for f in files:\n",
    "    dataset = ds.dataset(f, format=\"parquet\")\n",
    "    head_table = dataset.head(5)   # returns Arrow table\n",
    "    df_head = head_table.to_pandas()\n",
    "    # print(f\"{f}:\")\n",
    "    # print(df_head)\n",
    "    # print(\"-\" * 60)"
   ]
  },
  {
   "cell_type": "markdown",
   "metadata": {},
   "source": [
    "## Cleaning\n",
    "\n",
    "### Assumption : \n",
    "- `tag` is the same for all the the entry it just says that it is in new york, we can drop it safely\n",
    "\n",
    "- `id`, `nuid`, and `name` are unique per station, so I decided to only keep the `name`\n",
    "\n",
    "- I wont be using the localisation, so I will also drop `latitude` or `longitude`\n",
    "\n",
    "- And I will also drop `extra` because it does not provide any information useful that i cant create (like `total_slot` = `bikes` + `free`"
   ]
  },
  {
   "cell_type": "code",
   "execution_count": 3,
   "metadata": {},
   "outputs": [],
   "source": [
    "use_cols = [\"name\", \"bikes\", \"free\", \"timestamp\"]\n",
    "df = pd.read_parquet(\"../data/raw/citibike_merged.parquet\", columns=use_cols)"
   ]
  },
  {
   "cell_type": "code",
   "execution_count": null,
   "metadata": {},
   "outputs": [],
   "source": [
    "# Make sure timestamp is datetime and you have a date column\n",
    "df['timestamp'] = pd.to_datetime(df['timestamp'])\n",
    "df['date'] = df['timestamp'].dt.date\n",
    "\n",
    "\n",
    "df = df.sort_values(['name', 'date', 'timestamp'])\n",
    "\n",
    "\n",
    "g = df.groupby(['name', 'date'])\n",
    "\n",
    "# First row in each (name, date)\n",
    "is_first = g.cumcount() == 0\n",
    "# Last row in each (name, date)\n",
    "is_last  = g.cumcount(ascending=False) == 0\n",
    "\n",
    "mask = is_first | is_last\n",
    "df = df[mask]\n",
    "\n",
    "print(df.head(20))"
   ]
  },
  {
   "cell_type": "code",
   "execution_count": null,
   "metadata": {},
   "outputs": [],
   "source": [
    "df.to_parquet(PROC / \"citibike_cleaned.parquet\", index=False)\n",
    "\n",
    "print(\"Saved to:\", PROC / \"citibike_cleaned.parquet\")"
   ]
  }
 ],
 "metadata": {
  "kernelspec": {
   "display_name": "Python 3 (ipykernel)",
   "language": "python",
   "name": "python3"
  },
  "language_info": {
   "codemirror_mode": {
    "name": "ipython",
    "version": 3
   },
   "file_extension": ".py",
   "mimetype": "text/x-python",
   "name": "python",
   "nbconvert_exporter": "python",
   "pygments_lexer": "ipython3",
   "version": "3.10.18"
  }
 },
 "nbformat": 4,
 "nbformat_minor": 4
}
