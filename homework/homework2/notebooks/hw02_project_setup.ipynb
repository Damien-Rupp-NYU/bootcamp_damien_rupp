{
 "cells": [
  {
   "cell_type": "markdown",
   "id": "e1f33bcb",
   "metadata": {},
   "source": [
    "### Environment & Config Check"
   ]
  },
  {
   "cell_type": "code",
   "execution_count": 1,
   "id": "91026e1c-1973-4b98-9149-0d6e39b1e2c4",
   "metadata": {},
   "outputs": [
    {
     "name": "stdout",
     "output_type": "stream",
     "text": [
      "Python version: 3.11.13 | packaged by Anaconda, Inc. | (main, Jun  5 2025, 13:03:15) [MSC v.1929 64 bit (AMD64)]\n",
      "Interpreter path: c:\\Users\\damie\\miniconda3\\envs\\fe-course\\python.exe\n"
     ]
    }
   ],
   "source": [
    "import sys, os\n",
    "print(\"Python version:\", sys.version)\n",
    "print(\"Interpreter path:\", sys.executable)"
   ]
  },
  {
   "cell_type": "code",
   "execution_count": 2,
   "id": "97a350de",
   "metadata": {},
   "outputs": [
    {
     "name": "stdout",
     "output_type": "stream",
     "text": [
      "Imports OK\n"
     ]
    }
   ],
   "source": [
    "try:\n",
    "    import numpy as np\n",
    "    from dotenv import load_dotenv\n",
    "    print(\"Imports OK\")\n",
    "except Exception as e:\n",
    "    print(\"Import error:\", e)\n",
    "    raise"
   ]
  },
  {
   "cell_type": "code",
   "execution_count": 3,
   "id": "17f2aaa4",
   "metadata": {},
   "outputs": [
    {
     "name": "stdout",
     "output_type": "stream",
     "text": [
      "True\n",
      ".env loaded\n"
     ]
    }
   ],
   "source": [
    "from pathlib import Path\n",
    "load_dotenv()  # looks for a .env file in the current and parent directories\n",
    "print(load_dotenv())\n",
    "\n",
    "if load_dotenv():\n",
    "    print(\".env loaded\")\n",
    "else:\n",
    "    print(\"could not find .env\")"
   ]
  },
  {
   "cell_type": "code",
   "execution_count": 4,
   "id": "8bd97207",
   "metadata": {},
   "outputs": [
    {
     "name": "stdout",
     "output_type": "stream",
     "text": [
      "PROJECT_ROOT: c:\\bootcamp_damien_rupp\\homework\\homework2\n",
      "DATA_DIR: c:\\bootcamp_damien_rupp\\homework\\homework2\\data\n"
     ]
    }
   ],
   "source": [
    "PROJECT_ROOT = Path.cwd().parent\n",
    "DATA_DIR = PROJECT_ROOT / \"data\"\n",
    "print(\"PROJECT_ROOT:\", PROJECT_ROOT)\n",
    "print(\"DATA_DIR:\", DATA_DIR)"
   ]
  },
  {
   "cell_type": "code",
   "execution_count": 5,
   "id": "431585d2",
   "metadata": {},
   "outputs": [
    {
     "name": "stdout",
     "output_type": "stream",
     "text": [
      "get key was imported\n",
      "get key was imported\n",
      "API_KEY present: True\n",
      "DATA_DIR from env: ./../data\n",
      "Ensured data directory exists.\n"
     ]
    }
   ],
   "source": [
    "\n",
    "sys.path.append(str(PROJECT_ROOT))\n",
    "\n",
    "from src.config import get_key\n",
    "\n",
    "\n",
    "api_key_present = get_key(\"API_KEY\") is not None\n",
    "data_dir_env = get_key(\"DATA_DIR\", str(DATA_DIR))\n",
    "\n",
    "# print(get_key(\"API_KEY\"))\n",
    "\n",
    "print(\"API_KEY present:\", api_key_present)\n",
    "print(\"DATA_DIR from env:\", data_dir_env)\n",
    "\n",
    "# Ensure data directory exists (non-destructive)\n",
    "Path(data_dir_env).mkdir(parents=True, exist_ok=True)\n",
    "print(\"Ensured data directory exists.\")"
   ]
  },
  {
   "cell_type": "code",
   "execution_count": null,
   "id": "24db35bd",
   "metadata": {},
   "outputs": [],
   "source": []
  }
 ],
 "metadata": {
  "kernelspec": {
   "display_name": "fe-course",
   "language": "python",
   "name": "python3"
  },
  "language_info": {
   "codemirror_mode": {
    "name": "ipython",
    "version": 3
   },
   "file_extension": ".py",
   "mimetype": "text/x-python",
   "name": "python",
   "nbconvert_exporter": "python",
   "pygments_lexer": "ipython3",
   "version": "3.11.13"
  }
 },
 "nbformat": 4,
 "nbformat_minor": 5
}
