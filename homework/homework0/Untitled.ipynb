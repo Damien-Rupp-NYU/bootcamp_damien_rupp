{
 "cells": [
  {
   "cell_type": "code",
   "execution_count": 3,
   "id": "509dd500-972c-4339-bfcb-a980bf5ff4ef",
   "metadata": {},
   "outputs": [
    {
     "ename": "SyntaxError",
     "evalue": "positional argument follows keyword argument (2416070071.py, line 4)",
     "output_type": "error",
     "traceback": [
      "\u001b[1;36m  Cell \u001b[1;32mIn[3], line 4\u001b[1;36m\u001b[0m\n\u001b[1;33m    my_func(1,2,y=3,4)\u001b[0m\n\u001b[1;37m                     ^\u001b[0m\n\u001b[1;31mSyntaxError\u001b[0m\u001b[1;31m:\u001b[0m positional argument follows keyword argument\n"
     ]
    }
   ],
   "source": [
    "def my_func(y,*args):\n",
    "    print(args)\n",
    "\n",
    "my_func(1,2,y=3,4)"
   ]
  },
  {
   "cell_type": "code",
   "execution_count": null,
   "id": "0ad2c643-1a2e-4c97-a3c4-5220cbe1a75b",
   "metadata": {},
   "outputs": [],
   "source": []
  }
 ],
 "metadata": {
  "kernelspec": {
   "display_name": "Python 3 (ipykernel)",
   "language": "python",
   "name": "python3"
  },
  "language_info": {
   "codemirror_mode": {
    "name": "ipython",
    "version": 3
   },
   "file_extension": ".py",
   "mimetype": "text/x-python",
   "name": "python",
   "nbconvert_exporter": "python",
   "pygments_lexer": "ipython3",
   "version": "3.10.18"
  }
 },
 "nbformat": 4,
 "nbformat_minor": 5
}
